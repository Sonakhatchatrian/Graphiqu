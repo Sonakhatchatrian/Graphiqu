{
 "cells": [
  {
   "cell_type": "code",
   "execution_count": 1,
   "metadata": {},
   "outputs": [
    {
     "name": "stdout",
     "output_type": "stream",
     "text": [
      "Les images les plus similaires sont :\n",
      "chat2.jpg avec un score de similarité de 3890\n",
      "chat11.jpg avec un score de similarité de 26\n",
      "chat1.jpg avec un score de similarité de 22\n"
     ]
    }
   ],
   "source": [
    "import cv2\n",
    "import os\n",
    "import numpy as np\n",
    "\n",
    "# Charger le jeu de données\n",
    "def load_dataset(dataset_path):\n",
    "    dataset = []\n",
    "    for filename in os.listdir(dataset_path):\n",
    "        if filename.endswith(\".jpg\") or filename.endswith(\".png\"):\n",
    "            image = cv2.imread(os.path.join(dataset_path, filename))\n",
    "            if image is not None:\n",
    "                dataset.append((filename, image))\n",
    "    return dataset\n",
    "\n",
    "# Extraire les caractéristiques avec SIFT\n",
    "def extract_features(image):\n",
    "    gray = cv2.cvtColor(image, cv2.COLOR_BGR2GRAY)\n",
    "    sift = cv2.SIFT_create()\n",
    "    keypoints, descriptors = sift.detectAndCompute(gray, None)\n",
    "    return keypoints, descriptors\n",
    "\n",
    "# Comparer les caractéristiques\n",
    "def match_features(descriptor1, descriptor2):\n",
    "    bf = cv2.BFMatcher()\n",
    "    matches = bf.knnMatch(descriptor1, descriptor2, k=2)\n",
    "    good_matches = []\n",
    "    for m, n in matches:\n",
    "        if m.distance < 0.75 * n.distance:\n",
    "            good_matches.append(m)\n",
    "    return len(good_matches)\n",
    "\n",
    "# Trouver les images les plus similaires\n",
    "def find_similar_images(input_image_path, dataset_path):\n",
    "    input_image = cv2.imread(input_image_path)\n",
    "    _, input_descriptors = extract_features(input_image)\n",
    "    dataset = load_dataset(dataset_path)\n",
    "\n",
    "    scores = []\n",
    "    for filename, image in dataset:\n",
    "        _, descriptors = extract_features(image)\n",
    "        score = match_features(input_descriptors, descriptors)\n",
    "        scores.append((filename, score))\n",
    "    \n",
    "    scores.sort(key=lambda x: x[1], reverse=True)\n",
    "    return scores[:3]  # Retourner les 3 meilleures correspondances\n",
    "\n",
    "# Chemins d'exemple\n",
    "input_image_path =  r\"C:\\Users\\SONA8\\Desktop\\projet_eval\\chat\\chat2.jpg\"\n",
    "dataset_path = r\"C:\\Users\\SONA8\\Desktop\\projet_eval\\chat\"\n",
    "\n",
    "# Exécuter la recherche\n",
    "similar_images = find_similar_images(input_image_path, dataset_path)\n",
    "print(\"Les images les plus similaires sont :\")\n",
    "for filename, score in similar_images:\n",
    "    print(f\"{filename} avec un score de similarité de {score}\")\n"
   ]
  }
 ],
 "metadata": {
  "kernelspec": {
   "display_name": "Python 3",
   "language": "python",
   "name": "python3"
  },
  "language_info": {
   "codemirror_mode": {
    "name": "ipython",
    "version": 3
   },
   "file_extension": ".py",
   "mimetype": "text/x-python",
   "name": "python",
   "nbconvert_exporter": "python",
   "pygments_lexer": "ipython3",
   "version": "3.11.9"
  }
 },
 "nbformat": 4,
 "nbformat_minor": 2
}
